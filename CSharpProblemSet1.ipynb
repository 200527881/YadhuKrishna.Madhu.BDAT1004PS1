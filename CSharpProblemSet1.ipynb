{
 "cells": [
  {
   "cell_type": "code",
   "execution_count": 2,
   "id": "66524c95",
   "metadata": {},
   "outputs": [
    {
     "name": "stdout",
     "output_type": "stream",
     "text": [
      "Supercalifragilisticexpialidocious 34 and contains ice\n",
      "Bababadalgharaghtakamminarronnkonn\n",
      "Buxtehude\n"
     ]
    }
   ],
   "source": [
    "//Q2\n",
    "string str1, str2, str3;\n",
    "str1 = \"Supercalifragilisticexpialidocious\";\n",
    "str2 = \"Honorificabilitudinitatibus\";\n",
    "str3 = \"Bababadalgharaghtakamminarronnkonn\";\n",
    "string[] strArray = new string[] {\"Berlioz\", \"Borodin\", \"Brian\",\"Bartok\", \"Bellini\", \"Buxtehude\", \"Bernstein\"};\n",
    "int strlength = str1.Length;\n",
    "if(str1.Contains(\"ice\"))\n",
    "{\n",
    "    Console.WriteLine(str1+\" \"+strlength+\" and contains ice\");\n",
    "}\n",
    "if(str1.Length > str2.Length)\n",
    "{\n",
    "    if (str1.Length > str3.Length)\n",
    "    {\n",
    "        Console.WriteLine(str1);\n",
    "    }\n",
    "    else\n",
    "        Console.WriteLine(str3);\n",
    "}\n",
    "else if(str2.Length > str3.Length)\n",
    "    Console.WriteLine(str2);\n",
    "else\n",
    "    Console.WriteLine(str3);\n",
    "string strLast=\"\";\n",
    "for(int i=0; i<strArray.Length-1;i++)\n",
    "{\n",
    "    if(String.Compare(strArray[i],strArray[i+1]) > 0)\n",
    "    {\n",
    "       strLast = strArray[i] ;\n",
    "    }\n",
    "}\n",
    "Console.WriteLine(strLast);"
   ]
  },
  {
   "cell_type": "code",
   "execution_count": 3,
   "id": "e7efdd92",
   "metadata": {},
   "outputs": [
    {
     "name": "stdout",
     "output_type": "stream",
     "text": [
      "Initiate\n",
      "Input\n",
      "Inside fn\n",
      "Area of triangle: 1.7320508075688772\n"
     ]
    }
   ],
   "source": [
    "//Q3\n",
    "using System;\n",
    "\n",
    "string a,b,c;\n",
    "\n",
    "double triangleArea(double a,double b,double c)\n",
    "{\n",
    "    double s = (a+b+c)/2;\n",
    "    return (Math.Sqrt(s*(s-a)*(s-b)*(s-c)));\n",
    "}\n",
    "Console.WriteLine(\"Please insert values for a, b and c respectively:\");\n",
    "a = Console.ReadLine();\n",
    "b = Console.ReadLine();\n",
    "c = Console.ReadLine();\n",
    "Console.WriteLine(\"Area of triangle: \"+triangleArea(Convert.ToDouble(a),Convert.ToDouble(b),Convert.ToDouble(c)));"
   ]
  },
  {
   "cell_type": "code",
   "execution_count": 22,
   "id": "c424ef2c",
   "metadata": {},
   "outputs": [
    {
     "name": "stdout",
     "output_type": "stream",
     "text": [
      "even\n",
      "odd\n",
      "even\n",
      "odd\n",
      "even\n",
      "odd\n",
      "3\n",
      "Even List\n",
      "0 2 4 Odd List\n",
      "1 3 5 "
     ]
    }
   ],
   "source": [
    "//Q4\n",
    "int length;\n",
    "Console.WriteLine(\"Input the number of elements to be stored in the array :\");\n",
    "length = Int32.Parse(Console.ReadLine());\n",
    "int[] intArray = new int[length];\n",
    "//int[] intEven;\n",
    "//int[] intOdd;\n",
    "int a=0,b=0;\n",
    "\n",
    "Console.WriteLine(\"Input \"+length+\" elements in the array :\");\n",
    "for(int i=0;i <= length - 1;i++)\n",
    "{\n",
    "    Console.WriteLine(\"Element -\"+i);\n",
    "    intArray[i]=Int32.Parse(Console.ReadLine());;\n",
    "    if(i%2==0)\n",
    "    {\n",
    "        a++;\n",
    "    } \n",
    "}\n",
    "int[] intEven = new int[a];\n",
    "int[] intOdd = new int[length-a];\n",
    "a=0;\n",
    "for(int i=0;i <= length - 1;i++)\n",
    "{\n",
    "    if(intArray[i]%2==0)\n",
    "       {\n",
    "            intEven[a] = intArray[i];\n",
    "            a++;\n",
    "       } \n",
    "    else\n",
    "       {\n",
    "            intOdd[b] = intArray[i];\n",
    "            b++;\n",
    "       } \n",
    "}\n",
    "Console.WriteLine(\"Expected Output: \");\n",
    "Console.WriteLine(\"The Even elements are: \");\n",
    "for(int i=0;i <= intEven.Length -1 ;i++)\n",
    "{\n",
    "    Console.Write(intEven[i]+\" \");\n",
    "}\n",
    "Console.WriteLine(\"The Odd elements are : \");\n",
    "for(int i=0;i <= intOdd.Length - 1;i++)\n",
    "{\n",
    "    Console.Write(intOdd[i]+\" \");\n",
    "}\n"
   ]
  },
  {
   "cell_type": "code",
   "execution_count": 28,
   "id": "bbacb5f3",
   "metadata": {},
   "outputs": [
    {
     "name": "stdout",
     "output_type": "stream",
     "text": [
      "True\r\n"
     ]
    }
   ],
   "source": [
    "//Q5\n",
    "double x,y,x1,y1,x2,y2;\n",
    "bool inside(double x,double y,double x1,double y1,double x2,double y2)\n",
    "{\n",
    "    if((x<x1 || x>x2)||(y<y1 || y>y2))\n",
    "    {\n",
    "        return false;\n",
    "    }\n",
    "    else\n",
    "        return true;\n",
    "}\n",
    "bool t = inside(1,1,0.3,0.5,1.1,2);\n",
    "Console.WriteLine(t);\n"
   ]
  },
  {
   "cell_type": "code",
   "execution_count": 25,
   "id": "9c6e9e42",
   "metadata": {},
   "outputs": [
    {
     "ename": "Unhandled Exception",
     "evalue": "(2,5): error CS1519: Invalid token '5' in class, struct, or interface member declaration\r\n(2,6): error CS1002: ; expected\r\n(3,7): error CS1519: Invalid token '5.0' in class, struct, or interface member declaration\r\n(3,10): error CS1002: ; expected\r\n(4,9): error CS1002: ; expected\r\n(4,14): error CS1002: ; expected\r\n(5,11): error CS1002: ; expected\r\n(5,14): error CS1002: ; expected\r\n(6,5): error CS1519: Invalid token '5' in class, struct, or interface member declaration\r\n(6,10): error CS1002: ; expected\r\n(7,6): error CS1519: Invalid token ''5'' in class, struct, or interface member declaration\r\n(7,13): error CS1002: ; expected\r\n(8,6): error CS1519: Invalid token ''5'' in class, struct, or interface member declaration\r\n(8,15): error CS1002: ; expected\r\n(9,7): error CS1519: Invalid token '5' in class, struct, or interface member declaration\r\n(9,12): error CS1002: ; expected\r\n(10,5): error CS1519: Invalid token '5' in class, struct, or interface member declaration\r\n(10,10): error CS1002: ; expected\r\n(11,7): error CS1002: ; expected\r\n(11,9): error CS1002: ; expected\r\n(11,9): error CS1513: } expected\r\n(11,12): error CS1002: ; expected\r\n(11,12): error CS1513: } expected\r\n(11,15): error CS1002: ; expected\r\n(12,9): error CS1002: ; expected\r\n(12,15): error CS1002: ; expected\r\n(13,22): error CS1002: ; expected",
     "output_type": "error",
     "traceback": [
      "(2,5): error CS1519: Invalid token '5' in class, struct, or interface member declaration\r\n(2,6): error CS1002: ; expected\r\n(3,7): error CS1519: Invalid token '5.0' in class, struct, or interface member declaration\r\n(3,10): error CS1002: ; expected\r\n(4,9): error CS1002: ; expected\r\n(4,14): error CS1002: ; expected\r\n(5,11): error CS1002: ; expected\r\n(5,14): error CS1002: ; expected\r\n(6,5): error CS1519: Invalid token '5' in class, struct, or interface member declaration\r\n(6,10): error CS1002: ; expected\r\n(7,6): error CS1519: Invalid token ''5'' in class, struct, or interface member declaration\r\n(7,13): error CS1002: ; expected\r\n(8,6): error CS1519: Invalid token ''5'' in class, struct, or interface member declaration\r\n(8,15): error CS1002: ; expected\r\n(9,7): error CS1519: Invalid token '5' in class, struct, or interface member declaration\r\n(9,12): error CS1002: ; expected\r\n(10,5): error CS1519: Invalid token '5' in class, struct, or interface member declaration\r\n(10,10): error CS1002: ; expected\r\n(11,7): error CS1002: ; expected\r\n(11,9): error CS1002: ; expected\r\n(11,9): error CS1513: } expected\r\n(11,12): error CS1002: ; expected\r\n(11,12): error CS1513: } expected\r\n(11,15): error CS1002: ; expected\r\n(12,9): error CS1002: ; expected\r\n(12,15): error CS1002: ; expected\r\n(13,22): error CS1002: ; expected"
     ]
    }
   ],
   "source": [
    "//Q1\n",
    "int 5\n",
    "float 5.0\n",
    "boolean 5 > 1\n",
    "character '5'\n",
    "int 5 * 2\n",
    "char '5' * 2\n",
    "char '5' + '2'\n",
    "float 5 / 2\n",
    "int 5 % 2\n",
    "array {5, 2, 1}\n",
    "boolean 5 == 3\n",
    "float Pi (the number)"
   ]
  },
  {
   "cell_type": "code",
   "execution_count": null,
   "id": "33a2499a",
   "metadata": {},
   "outputs": [],
   "source": []
  }
 ],
 "metadata": {
  "kernelspec": {
   "display_name": ".NET (C#)",
   "language": "C#",
   "name": ".net-csharp"
  },
  "language_info": {
   "file_extension": ".cs",
   "mimetype": "text/x-csharp",
   "name": "C#",
   "pygments_lexer": "csharp",
   "version": "8.0"
  }
 },
 "nbformat": 4,
 "nbformat_minor": 5
}
