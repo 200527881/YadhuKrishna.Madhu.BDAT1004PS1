{
 "cells": [
  {
   "cell_type": "code",
   "execution_count": 56,
   "id": "12896506",
   "metadata": {},
   "outputs": [
    {
     "name": "stdout",
     "output_type": "stream",
     "text": [
      "Enter a value:yaddhu\n",
      "addhuyay\n"
     ]
    }
   ],
   "source": [
    "#Q6\n",
    "def pig(str):\n",
    "    str1 = \"aeiou\"\n",
    "    str2 = []\n",
    "    strsep = \"\"\n",
    "    if(str1.find(str[0].lower())!=-1):\n",
    "        str2.append(str+\"way\") \n",
    "    else:\n",
    "        str2.append(str[1:] + str[0] + \"ay\")\n",
    "    str3 = strsep.join(str2)\n",
    "    return str3\n",
    "\n",
    "print(pig(input(\"Enter a value:\")))\n",
    "    \n",
    "         \n",
    "        "
   ]
  },
  {
   "cell_type": "code",
   "execution_count": 40,
   "id": "4ef4078b",
   "metadata": {},
   "outputs": [
    {
     "name": "stdout",
     "output_type": "stream",
     "text": [
      "There is/are 31 patient(s) of blood type A. \n",
      " There is/are 1 patient(s) of blood type B. \n",
      "There is/are 13 patient(s) of blood type AB. \n",
      "There is/are 0 patient(s) of blood type O.\n",
      "There is/are 0 patients of blood type OO.\n"
     ]
    }
   ],
   "source": [
    "#Q7\n",
    "def bldcount(filename):\n",
    "    f1 = open(filename, \"r\")\n",
    "    \n",
    "    str1 = str(f1.read())\n",
    "    arrf1 = (str1).split(\" \")\n",
    "    intAB = 0\n",
    "    intA = 0\n",
    "    intO = 0\n",
    "    intB = 0\n",
    "    intOO = 0\n",
    "    \n",
    "    for i in arrf1:\n",
    "        if(i=='AB'):\n",
    "            intAB+=1\n",
    "        elif(i=='OO'):\n",
    "            intO+=1\n",
    "        elif(i=='O'):\n",
    "            intA+=1\n",
    "        elif(i=='B'):\n",
    "            intB+=1           \n",
    "        else:\n",
    "            intA+=1\n",
    "    print(\"There is/are \"+str(intA)+\" patient(s) of blood type A. \\n There is/are \"+str(intB)+\" patient(s) of blood type B. \\nThere is/are \"+str(intAB)+\" patient(s) of blood type AB. \\nThere is/are \"+str(intO)+\" patient(s) of blood type O.\\nThere is/are \"+str(intOO)+\" patients of blood type OO.\")\n",
    "bldcount(\"bloodtype1.txt\")"
   ]
  },
  {
   "cell_type": "code",
   "execution_count": 57,
   "id": "cd264eb1",
   "metadata": {},
   "outputs": [
    {
     "name": "stdout",
     "output_type": "stream",
     "text": [
      "Enter a currency:EUR\n",
      "Enter an amount:100\n",
      "122.96544\n"
     ]
    }
   ],
   "source": [
    "#Q8\n",
    "def curconv(strcurType,intAmt):\n",
    "    f1 = open(\"currencies.txt\", \"r\")\n",
    "    \n",
    "    str1 = str(f1.read())\n",
    "    arrf1 = (str1).split(\"\\n\")\n",
    "\n",
    "    for i in arrf1:\n",
    "        if(i.find(strcurType) != -1):\n",
    "            print(intAmt*float(i.split(\"\\t\")[1]))\n",
    "    \n",
    "curconv(input(\"Enter a currency:\"),int(input(\"Enter an amount:\")))"
   ]
  },
  {
   "cell_type": "code",
   "execution_count": 60,
   "id": "19b9e57f",
   "metadata": {},
   "outputs": [
    {
     "ename": "TypeError",
     "evalue": "unsupported operand type(s) for +: 'int' and 'str'",
     "output_type": "error",
     "traceback": [
      "\u001b[1;31m---------------------------------------------------------------------------\u001b[0m",
      "\u001b[1;31mTypeError\u001b[0m                                 Traceback (most recent call last)",
      "Input \u001b[1;32mIn [60]\u001b[0m, in \u001b[0;36m<cell line: 13>\u001b[1;34m()\u001b[0m\n\u001b[0;32m      1\u001b[0m \u001b[38;5;66;03m#Q9\u001b[39;00m\n\u001b[0;32m      2\u001b[0m \u001b[38;5;66;03m#Trying to add incompatible variables, as in\u001b[39;00m\n\u001b[0;32m      3\u001b[0m \u001b[38;5;66;03m#adding 6 + ‘a’ - Type Error\u001b[39;00m\n\u001b[1;32m   (...)\u001b[0m\n\u001b[0;32m     11\u001b[0m \u001b[38;5;66;03m#mistyping the file name or looking in the wrong\u001b[39;00m\n\u001b[0;32m     12\u001b[0m \u001b[38;5;66;03m#directory. - file not found\u001b[39;00m\n\u001b[1;32m---> 13\u001b[0m \u001b[38;5;241;43m6\u001b[39;49m\u001b[43m \u001b[49m\u001b[38;5;241;43m+\u001b[39;49m\u001b[43m \u001b[49m\u001b[38;5;124;43m'\u001b[39;49m\u001b[38;5;124;43ma\u001b[39;49m\u001b[38;5;124;43m'\u001b[39;49m\n",
      "\u001b[1;31mTypeError\u001b[0m: unsupported operand type(s) for +: 'int' and 'str'"
     ]
    }
   ],
   "source": [
    "#Q9\n",
    "#Trying to add incompatible variables, as in\n",
    "#adding 6 + ‘a’ - Type Error\n",
    "#Referring to the 12th item of a list that has only 10\n",
    "#items - Index error\n",
    "#Using a value that is out ofrange for a function’s\n",
    "#input, such as calling math.sqrt(-1.0) - Name error\n",
    "#Using an undeclared variable, such as print(x)\n",
    "#when x has not been defined - Name error\n",
    "#Trying to open a file that does not exist, such as\n",
    "#mistyping the file name or looking in the wrong\n",
    "#directory. - file not found\n"
   ]
  },
  {
   "cell_type": "code",
   "execution_count": 59,
   "id": "ffa11b27",
   "metadata": {},
   "outputs": [
    {
     "name": "stdout",
     "output_type": "stream",
     "text": [
      "Enter a value:Yadhu\n",
      "[1, 0, 0, 1, 0, 0, 0, 1, 0, 0, 0, 0, 0, 0, 0, 0, 0, 0, 0, 0, 1, 0, 0, 0, 1, 0]\n"
     ]
    }
   ],
   "source": [
    "def frequencies(strValue):\n",
    "    letters = \"abcdefghijklmnopqrstuvwxyz\"\n",
    "    arrValue = []\n",
    "    for i in letters:\n",
    "        arrValue.append((strValue.lower()).count(i))\n",
    "    print(arrValue)\n",
    "frequencies(input(\"Enter a value:\"))\n",
    "        \n",
    "            "
   ]
  },
  {
   "cell_type": "code",
   "execution_count": 64,
   "id": "e6045780",
   "metadata": {},
   "outputs": [
    {
     "data": {
      "text/plain": [
       "1"
      ]
     },
     "execution_count": 64,
     "metadata": {},
     "output_type": "execute_result"
    }
   ],
   "source": []
  },
  {
   "cell_type": "code",
   "execution_count": null,
   "id": "74b73acc",
   "metadata": {},
   "outputs": [],
   "source": []
  }
 ],
 "metadata": {
  "kernelspec": {
   "display_name": "Python 3 (ipykernel)",
   "language": "python",
   "name": "python3"
  },
  "language_info": {
   "codemirror_mode": {
    "name": "ipython",
    "version": 3
   },
   "file_extension": ".py",
   "mimetype": "text/x-python",
   "name": "python",
   "nbconvert_exporter": "python",
   "pygments_lexer": "ipython3",
   "version": "3.9.12"
  }
 },
 "nbformat": 4,
 "nbformat_minor": 5
}
